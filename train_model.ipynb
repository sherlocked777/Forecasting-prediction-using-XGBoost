{
 "cells": [
  {
   "cell_type": "code",
   "execution_count": 20,
   "metadata": {},
   "outputs": [],
   "source": [
    "import pickle\n",
    "import pandas as pd\n",
    "from numpy import loadtxt\n",
    "from sklearn.metrics import accuracy_score\n",
    "from sklearn.model_selection import train_test_split\n",
    "from sklearn.preprocessing import FunctionTransformer\n",
    "# from sklearn.pipeline import make_pipeline, make_union\n",
    "from base_models import get_model, get_base_model, get_XGBClassifier"
   ]
  },
  {
   "cell_type": "code",
   "execution_count": 22,
   "metadata": {},
   "outputs": [],
   "source": [
    "# variables\n",
    "train_data = 'train.csv'\n",
    "date_format ='%m/%d/%Y %I:%M:%S %p'\n",
    "model_file_name = 'finalized_model.sav'\n",
    "all_features = ['FeaA', 'FeaB', 'FeaC', 'FeaD', 'FeaE', 'year', 'month', 'day', 'weekday', 'hour', 'minute', 'second']"
   ]
  },
  {
   "cell_type": "code",
   "execution_count": 5,
   "metadata": {},
   "outputs": [],
   "source": [
    "# adding parser for datetime object\n",
    "parser = lambda date: pd.datetime.strptime(date, date_format)\n",
    "# load data from train data into a dataframe\n",
    "df = pd.read_csv(train_data, delimiter=\",\", parse_dates=['Timestamp'], date_parser=parser)"
   ]
  },
  {
   "cell_type": "code",
   "execution_count": 6,
   "metadata": {},
   "outputs": [],
   "source": [
    "# adding additional features from datetime object Timestamp\n",
    "df['year'], df['month'], df['day'], df['weekday'], df['hour'], df['minute'], df['second'] = df['Timestamp'].dt.year, df['Timestamp'].dt.month, df['Timestamp'].dt.day, df['Timestamp'].dt.dayofweek, df['Timestamp'].dt.hour, df['Timestamp'].dt.minute, df['Timestamp'].dt.second"
   ]
  },
  {
   "cell_type": "code",
   "execution_count": 7,
   "metadata": {},
   "outputs": [],
   "source": [
    "# create label for prediction\n",
    "y = df[['Label']]"
   ]
  },
  {
   "cell_type": "code",
   "execution_count": 8,
   "metadata": {},
   "outputs": [],
   "source": [
    "# prepare train data\n",
    "df_train = df[all_features]"
   ]
  },
  {
   "cell_type": "code",
   "execution_count": 9,
   "metadata": {},
   "outputs": [
    {
     "data": {
      "text/html": [
       "<div>\n",
       "<style scoped>\n",
       "    .dataframe tbody tr th:only-of-type {\n",
       "        vertical-align: middle;\n",
       "    }\n",
       "\n",
       "    .dataframe tbody tr th {\n",
       "        vertical-align: top;\n",
       "    }\n",
       "\n",
       "    .dataframe thead th {\n",
       "        text-align: right;\n",
       "    }\n",
       "</style>\n",
       "<table border=\"1\" class=\"dataframe\">\n",
       "  <thead>\n",
       "    <tr style=\"text-align: right;\">\n",
       "      <th></th>\n",
       "      <th>FeaA</th>\n",
       "      <th>FeaB</th>\n",
       "      <th>FeaC</th>\n",
       "      <th>FeaD</th>\n",
       "      <th>FeaE</th>\n",
       "      <th>year</th>\n",
       "      <th>month</th>\n",
       "      <th>day</th>\n",
       "      <th>weekday</th>\n",
       "      <th>hour</th>\n",
       "      <th>minute</th>\n",
       "      <th>second</th>\n",
       "    </tr>\n",
       "  </thead>\n",
       "  <tbody>\n",
       "    <tr>\n",
       "      <th>799995</th>\n",
       "      <td>1.683021</td>\n",
       "      <td>NaN</td>\n",
       "      <td>1.310556</td>\n",
       "      <td>2.135965</td>\n",
       "      <td>-2.9800</td>\n",
       "      <td>2017</td>\n",
       "      <td>8</td>\n",
       "      <td>28</td>\n",
       "      <td>0</td>\n",
       "      <td>10</td>\n",
       "      <td>53</td>\n",
       "      <td>26</td>\n",
       "    </tr>\n",
       "    <tr>\n",
       "      <th>799996</th>\n",
       "      <td>1.682958</td>\n",
       "      <td>NaN</td>\n",
       "      <td>1.337481</td>\n",
       "      <td>2.132880</td>\n",
       "      <td>-2.9733</td>\n",
       "      <td>2017</td>\n",
       "      <td>8</td>\n",
       "      <td>28</td>\n",
       "      <td>0</td>\n",
       "      <td>10</td>\n",
       "      <td>55</td>\n",
       "      <td>26</td>\n",
       "    </tr>\n",
       "    <tr>\n",
       "      <th>799997</th>\n",
       "      <td>1.683089</td>\n",
       "      <td>0.349964</td>\n",
       "      <td>1.342675</td>\n",
       "      <td>2.134424</td>\n",
       "      <td>-2.9667</td>\n",
       "      <td>2017</td>\n",
       "      <td>8</td>\n",
       "      <td>28</td>\n",
       "      <td>0</td>\n",
       "      <td>10</td>\n",
       "      <td>57</td>\n",
       "      <td>26</td>\n",
       "    </tr>\n",
       "    <tr>\n",
       "      <th>799998</th>\n",
       "      <td>1.682958</td>\n",
       "      <td>0.472871</td>\n",
       "      <td>1.326907</td>\n",
       "      <td>2.134038</td>\n",
       "      <td>-2.9600</td>\n",
       "      <td>2017</td>\n",
       "      <td>8</td>\n",
       "      <td>28</td>\n",
       "      <td>0</td>\n",
       "      <td>10</td>\n",
       "      <td>59</td>\n",
       "      <td>26</td>\n",
       "    </tr>\n",
       "    <tr>\n",
       "      <th>799999</th>\n",
       "      <td>1.683089</td>\n",
       "      <td>NaN</td>\n",
       "      <td>1.332225</td>\n",
       "      <td>2.133652</td>\n",
       "      <td>-2.9800</td>\n",
       "      <td>2017</td>\n",
       "      <td>8</td>\n",
       "      <td>28</td>\n",
       "      <td>0</td>\n",
       "      <td>11</td>\n",
       "      <td>1</td>\n",
       "      <td>26</td>\n",
       "    </tr>\n",
       "  </tbody>\n",
       "</table>\n",
       "</div>"
      ],
      "text/plain": [
       "            FeaA      FeaB      FeaC      FeaD    FeaE  year  month  day  \\\n",
       "799995  1.683021       NaN  1.310556  2.135965 -2.9800  2017      8   28   \n",
       "799996  1.682958       NaN  1.337481  2.132880 -2.9733  2017      8   28   \n",
       "799997  1.683089  0.349964  1.342675  2.134424 -2.9667  2017      8   28   \n",
       "799998  1.682958  0.472871  1.326907  2.134038 -2.9600  2017      8   28   \n",
       "799999  1.683089       NaN  1.332225  2.133652 -2.9800  2017      8   28   \n",
       "\n",
       "        weekday  hour  minute  second  \n",
       "799995        0    10      53      26  \n",
       "799996        0    10      55      26  \n",
       "799997        0    10      57      26  \n",
       "799998        0    10      59      26  \n",
       "799999        0    11       1      26  "
      ]
     },
     "execution_count": 9,
     "metadata": {},
     "output_type": "execute_result"
    }
   ],
   "source": [
    "# show tail data\n",
    "df_train.tail()"
   ]
  },
  {
   "cell_type": "code",
   "execution_count": 10,
   "metadata": {},
   "outputs": [],
   "source": [
    "\n",
    "# imputer = Imputer(missing_values='NaN', strategy='mean', axis=0)"
   ]
  },
  {
   "cell_type": "code",
   "execution_count": 11,
   "metadata": {},
   "outputs": [
    {
     "data": {
      "text/plain": [
       "FeaA          40\n",
       "FeaB       44376\n",
       "FeaC         216\n",
       "FeaD         194\n",
       "FeaE       35488\n",
       "year           0\n",
       "month          0\n",
       "day            0\n",
       "weekday        0\n",
       "hour           0\n",
       "minute         0\n",
       "second         0\n",
       "dtype: int64"
      ]
     },
     "execution_count": 11,
     "metadata": {},
     "output_type": "execute_result"
    }
   ],
   "source": [
    "# check for missing values\n",
    "df_train.isnull().sum()"
   ]
  },
  {
   "cell_type": "code",
   "execution_count": 12,
   "metadata": {},
   "outputs": [],
   "source": [
    "# fill missing values using average of corresponding columns\n",
    "df_train = df_train.fillna(df_train.mean())"
   ]
  },
  {
   "cell_type": "code",
   "execution_count": 13,
   "metadata": {},
   "outputs": [],
   "source": [
    "# split data into train test for vallidation\n",
    "X_train, X_test, y_train, y_test = train_test_split( df_train.values, y, test_size=0.33, random_state=42)"
   ]
  },
  {
   "cell_type": "code",
   "execution_count": 14,
   "metadata": {},
   "outputs": [],
   "source": [
    "# Calling model from base_model\n",
    "model = get_XGBClassifier()"
   ]
  },
  {
   "cell_type": "code",
   "execution_count": 15,
   "metadata": {},
   "outputs": [
    {
     "name": "stderr",
     "output_type": "stream",
     "text": [
      "/home/vishnu/.virtualenvs/dl/lib/python3.6/site-packages/sklearn/preprocessing/label.py:95: DataConversionWarning: A column-vector y was passed when a 1d array was expected. Please change the shape of y to (n_samples, ), for example using ravel().\n",
      "  y = column_or_1d(y, warn=True)\n",
      "/home/vishnu/.virtualenvs/dl/lib/python3.6/site-packages/sklearn/preprocessing/label.py:128: DataConversionWarning: A column-vector y was passed when a 1d array was expected. Please change the shape of y to (n_samples, ), for example using ravel().\n",
      "  y = column_or_1d(y, warn=True)\n"
     ]
    },
    {
     "data": {
      "text/plain": [
       "XGBClassifier(base_score=0.5, booster='gbtree', colsample_bylevel=1,\n",
       "       colsample_bytree=1, gamma=0, learning_rate=0.1, max_delta_step=0,\n",
       "       max_depth=3, min_child_weight=1, missing=None, n_estimators=100,\n",
       "       n_jobs=1, nthread=None, objective='multi:softprob', random_state=0,\n",
       "       reg_alpha=0, reg_lambda=1, scale_pos_weight=1, seed=None,\n",
       "       silent=True, subsample=1)"
      ]
     },
     "execution_count": 15,
     "metadata": {},
     "output_type": "execute_result"
    }
   ],
   "source": [
    "# fit model\n",
    "model.fit(X_train, y_train)"
   ]
  },
  {
   "cell_type": "code",
   "execution_count": 17,
   "metadata": {},
   "outputs": [
    {
     "name": "stderr",
     "output_type": "stream",
     "text": [
      "/home/vishnu/.virtualenvs/dl/lib/python3.6/site-packages/sklearn/preprocessing/label.py:151: DeprecationWarning: The truth value of an empty array is ambiguous. Returning False, but in future this will result in an error. Use `array.size > 0` to check that an array is not empty.\n",
      "  if diff:\n"
     ]
    }
   ],
   "source": [
    "# prediction\n",
    "preds = model.predict(X_test)"
   ]
  },
  {
   "cell_type": "code",
   "execution_count": 18,
   "metadata": {},
   "outputs": [
    {
     "name": "stdout",
     "output_type": "stream",
     "text": [
      "Accuracy: 99.10%\n"
     ]
    }
   ],
   "source": [
    "accuracy = accuracy_score(y_test, preds)\n",
    "print(\"Accuracy: %.2f%%\" % (accuracy * 100.0))"
   ]
  },
  {
   "cell_type": "code",
   "execution_count": 23,
   "metadata": {},
   "outputs": [],
   "source": [
    "# save model \n",
    "pickle.dump(model, open(model_file_name, 'wb'))"
   ]
  },
  {
   "cell_type": "code",
   "execution_count": null,
   "metadata": {},
   "outputs": [],
   "source": [
    "# # load model\n",
    "# loaded_model = pickle.load(open(filename, 'rb'))"
   ]
  },
  {
   "cell_type": "code",
   "execution_count": 26,
   "metadata": {},
   "outputs": [],
   "source": [
    "import matplotlib.pyplot as plt\n",
    "from xgboost import plot_tree"
   ]
  },
  {
   "cell_type": "code",
   "execution_count": 28,
   "metadata": {},
   "outputs": [
    {
     "name": "stdout",
     "output_type": "stream",
     "text": [
      "[0.1677641  0.06928142 0.17606641 0.17320354 0.2920126  0.01116519\n",
      " 0.02977383 0.01402806 0.00715717 0.01173776 0.         0.04780991]\n"
     ]
    }
   ],
   "source": [
    "print(model.feature_importances_)"
   ]
  },
  {
   "cell_type": "code",
   "execution_count": 30,
   "metadata": {},
   "outputs": [
    {
     "data": {
      "image/png": "[encoded data removed]",
      "text/plain": [
       "<matplotlib.figure.Figure at 0x7fe0bbdc6a20>"
      ]
     },
     "metadata": {},
     "output_type": "display_data"
    }
   ],
   "source": [
    "# plot\n",
    "plt.bar(range(len(model.feature_importances_)), model.feature_importances_)\n",
    "plt.show()"
   ]
  },
  {
   "cell_type": "code",
   "execution_count": 32,
   "metadata": {},
   "outputs": [
    {
     "data": {
      "image/png": "[encoded data removed]",
      "text/plain": [
       "<matplotlib.figure.Figure at 0x7fe0bbe06e80>"
      ]
     },
     "metadata": {},
     "output_type": "display_data"
    }
   ],
   "source": [
    "from xgboost import plot_importance\n",
    "from matplotlib import pyplot\n",
    "plot_importance(model)\n",
    "plt.show()"
   ]
  },
  {
   "cell_type": "code",
   "execution_count": 35,
   "metadata": {},
   "outputs": [
    {
     "data": {
      "text/html": [
       "<div>\n",
       "<style scoped>\n",
       "    .dataframe tbody tr th:only-of-type {\n",
       "        vertical-align: middle;\n",
       "    }\n",
       "\n",
       "    .dataframe tbody tr th {\n",
       "        vertical-align: top;\n",
       "    }\n",
       "\n",
       "    .dataframe thead th {\n",
       "        text-align: right;\n",
       "    }\n",
       "</style>\n",
       "<table border=\"1\" class=\"dataframe\">\n",
       "  <thead>\n",
       "    <tr style=\"text-align: right;\">\n",
       "      <th></th>\n",
       "      <th>Timestamp</th>\n",
       "      <th>FeaA</th>\n",
       "      <th>FeaB</th>\n",
       "      <th>FeaC</th>\n",
       "      <th>FeaD</th>\n",
       "      <th>FeaE</th>\n",
       "      <th>Label</th>\n",
       "      <th>year</th>\n",
       "      <th>month</th>\n",
       "      <th>day</th>\n",
       "      <th>weekday</th>\n",
       "      <th>hour</th>\n",
       "      <th>minute</th>\n",
       "      <th>second</th>\n",
       "    </tr>\n",
       "  </thead>\n",
       "  <tbody>\n",
       "    <tr>\n",
       "      <th>799995</th>\n",
       "      <td>2017-08-28 10:53:26</td>\n",
       "      <td>1.683021</td>\n",
       "      <td>NaN</td>\n",
       "      <td>1.310556</td>\n",
       "      <td>2.135965</td>\n",
       "      <td>-2.9800</td>\n",
       "      <td>2</td>\n",
       "      <td>2017</td>\n",
       "      <td>8</td>\n",
       "      <td>28</td>\n",
       "      <td>0</td>\n",
       "      <td>10</td>\n",
       "      <td>53</td>\n",
       "      <td>26</td>\n",
       "    </tr>\n",
       "    <tr>\n",
       "      <th>799996</th>\n",
       "      <td>2017-08-28 10:55:26</td>\n",
       "      <td>1.682958</td>\n",
       "      <td>NaN</td>\n",
       "      <td>1.337481</td>\n",
       "      <td>2.132880</td>\n",
       "      <td>-2.9733</td>\n",
       "      <td>2</td>\n",
       "      <td>2017</td>\n",
       "      <td>8</td>\n",
       "      <td>28</td>\n",
       "      <td>0</td>\n",
       "      <td>10</td>\n",
       "      <td>55</td>\n",
       "      <td>26</td>\n",
       "    </tr>\n",
       "    <tr>\n",
       "      <th>799997</th>\n",
       "      <td>2017-08-28 10:57:26</td>\n",
       "      <td>1.683089</td>\n",
       "      <td>0.349964</td>\n",
       "      <td>1.342675</td>\n",
       "      <td>2.134424</td>\n",
       "      <td>-2.9667</td>\n",
       "      <td>2</td>\n",
       "      <td>2017</td>\n",
       "      <td>8</td>\n",
       "      <td>28</td>\n",
       "      <td>0</td>\n",
       "      <td>10</td>\n",
       "      <td>57</td>\n",
       "      <td>26</td>\n",
       "    </tr>\n",
       "    <tr>\n",
       "      <th>799998</th>\n",
       "      <td>2017-08-28 10:59:26</td>\n",
       "      <td>1.682958</td>\n",
       "      <td>0.472871</td>\n",
       "      <td>1.326907</td>\n",
       "      <td>2.134038</td>\n",
       "      <td>-2.9600</td>\n",
       "      <td>2</td>\n",
       "      <td>2017</td>\n",
       "      <td>8</td>\n",
       "      <td>28</td>\n",
       "      <td>0</td>\n",
       "      <td>10</td>\n",
       "      <td>59</td>\n",
       "      <td>26</td>\n",
       "    </tr>\n",
       "    <tr>\n",
       "      <th>799999</th>\n",
       "      <td>2017-08-28 11:01:26</td>\n",
       "      <td>1.683089</td>\n",
       "      <td>NaN</td>\n",
       "      <td>1.332225</td>\n",
       "      <td>2.133652</td>\n",
       "      <td>-2.9800</td>\n",
       "      <td>2</td>\n",
       "      <td>2017</td>\n",
       "      <td>8</td>\n",
       "      <td>28</td>\n",
       "      <td>0</td>\n",
       "      <td>11</td>\n",
       "      <td>1</td>\n",
       "      <td>26</td>\n",
       "    </tr>\n",
       "  </tbody>\n",
       "</table>\n",
       "</div>"
      ],
      "text/plain": [
       "                 Timestamp      FeaA      FeaB      FeaC      FeaD    FeaE  \\\n",
       "799995 2017-08-28 10:53:26  1.683021       NaN  1.310556  2.135965 -2.9800   \n",
       "799996 2017-08-28 10:55:26  1.682958       NaN  1.337481  2.132880 -2.9733   \n",
       "799997 2017-08-28 10:57:26  1.683089  0.349964  1.342675  2.134424 -2.9667   \n",
       "799998 2017-08-28 10:59:26  1.682958  0.472871  1.326907  2.134038 -2.9600   \n",
       "799999 2017-08-28 11:01:26  1.683089       NaN  1.332225  2.133652 -2.9800   \n",
       "\n",
       "        Label  year  month  day  weekday  hour  minute  second  \n",
       "799995      2  2017      8   28        0    10      53      26  \n",
       "799996      2  2017      8   28        0    10      55      26  \n",
       "799997      2  2017      8   28        0    10      57      26  \n",
       "799998      2  2017      8   28        0    10      59      26  \n",
       "799999      2  2017      8   28        0    11       1      26  "
      ]
     },
     "execution_count": 35,
     "metadata": {},
     "output_type": "execute_result"
    }
   ],
   "source": [
    "df.tail()"
   ]
  }
 ],
 "metadata": {
  "kernelspec": {
   "display_name": "Python 3",
   "language": "python",
   "name": "python3"
  },
  "language_info": {
   "codemirror_mode": {
    "name": "ipython",
    "version": 3
   },
   "file_extension": ".py",
   "mimetype": "text/x-python",
   "name": "python",
   "nbconvert_exporter": "python",
   "pygments_lexer": "ipython3",
   "version": "3.6.6"
  }
 },
 "nbformat": 4,
 "nbformat_minor": 2
}
